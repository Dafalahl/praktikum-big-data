{
 "cells": [
  {
   "cell_type": "code",
   "execution_count": 2,
   "id": "df055b89-1ea2-4fc3-a8b4-0c40483fa885",
   "metadata": {},
   "outputs": [
    {
     "name": "stdout",
     "output_type": "stream",
     "text": [
      "Connected to MongoDB\n"
     ]
    }
   ],
   "source": [
    "from pymongo import MongoClient\n",
    "\n",
    "# Inisialisasi client dan koneksi ke database\n",
    "client = MongoClient('mongodb://localhost:27017/')\n",
    "db = client['company_db']\n",
    "collection = db['employees']\n",
    "\n",
    "# Contoh untuk memastikan koneksi\n",
    "print('Connected to MongoDB')"
   ]
  },
  {
   "cell_type": "code",
   "execution_count": 4,
   "id": "1533772e-a6fa-43bd-8dda-c35635e08035",
   "metadata": {},
   "outputs": [
    {
     "name": "stdout",
     "output_type": "stream",
     "text": [
      "{'_id': ObjectId('6905654ac13069a3c2dc56dd'), 'name': 'Alice', 'department': 'Finance', 'age': 29, 'salary': 4500}\n",
      "{'_id': ObjectId('6905654ac13069a3c2dc56dd'), 'name': 'Alice', 'department': 'Finance', 'age': 29, 'salary': 5500}\n",
      "{'_id': ObjectId('6905654ac13069a3c2dc56de'), 'name': 'Bob', 'department': 'Finance', 'age': 29, 'salary': 4500}\n",
      "Bob was deleted\n",
      "{'_id': ObjectId('6905654ac13069a3c2dc56dd'), 'name': 'Alice', 'department': 'Finance', 'age': 29, 'salary': 5500}\n"
     ]
    }
   ],
   "source": [
    "# Latihan\n",
    "employee_data_single = {\n",
    "    'name': 'Alice',\n",
    "    'department': 'Finance',\n",
    "    'age': 29,\n",
    "    'salary': 4500\n",
    "}\n",
    "collection.insert_one(employee_data_single)\n",
    "\n",
    "# Read\n",
    "for emp in collection.find():\n",
    "    print(emp)\n",
    "    \n",
    "# Create\n",
    "employee_data_single = {\n",
    "    'name': 'Bob',\n",
    "    'department': 'Finance',\n",
    "    'age': 29,\n",
    "    'salary': 4500\n",
    "}\n",
    "collection.insert_one(employee_data_single)\n",
    "\n",
    "# Update\n",
    "collection.update_one({'name': 'Alice'}, {'$set': {'salary': 5500}})\n",
    "\n",
    "# Read\n",
    "for emp in collection.find():\n",
    "    print(emp)\n",
    "\n",
    "# Delete\n",
    "collection.delete_one({'name': 'Bob'})\n",
    "print(\"Bob was deleted\")\n",
    "\n",
    "# Read\n",
    "for emp in collection.find():\n",
    "    print(emp)"
   ]
  },
  {
   "cell_type": "code",
   "execution_count": 35,
   "id": "52f19c16-3cc7-4e20-a70d-528d6b39ba42",
   "metadata": {},
   "outputs": [
    {
     "name": "stdout",
     "output_type": "stream",
     "text": [
      "{'_id': ObjectId('69057323c13069a3c2dc577f'), 'name': 'Bob', 'department': 'IT', 'age': 23, 'salary': 5200}\n",
      "{'_id': ObjectId('69057323c13069a3c2dc5780'), 'name': 'Charlie', 'department': 'HR', 'age': 31, 'salary': 4800}\n",
      "{'_id': ObjectId('69057323c13069a3c2dc5781'), 'name': 'Diana', 'department': 'Marketing', 'age': 28, 'salary': 3000}\n",
      "{'_id': ObjectId('69057323c13069a3c2dc5782'), 'name': 'Evan', 'department': 'Finance', 'age': 35, 'salary': 6200}\n",
      "{'_id': ObjectId('69057323c13069a3c2dc5783'), 'name': 'Fiona', 'department': 'IT', 'age': 22, 'salary': 5600}\n",
      "{'_id': ObjectId('69057323c13069a3c2dc5784'), 'name': 'George', 'department': 'Finance', 'age': 41, 'salary': 6800}\n",
      "{'_id': ObjectId('69057323c13069a3c2dc5785'), 'name': 'Hannah', 'department': 'HR', 'age': 27, 'salary': 4500}\n",
      "{'_id': ObjectId('69057323c13069a3c2dc5786'), 'name': 'Ian', 'department': 'Marketing', 'age': 23, 'salary': 5100}\n",
      "{'_id': ObjectId('69057323c13069a3c2dc5787'), 'name': 'Julia', 'department': 'IT', 'age': 24, 'salary': 4900}\n",
      "{'_id': ObjectId('69057323c13069a3c2dc5788'), 'name': 'Kevin', 'department': 'Finance', 'age': 30, 'salary': 6100}\n",
      "{'_id': ObjectId('69057323c13069a3c2dc5789'), 'name': 'Laura', 'department': 'Marketing', 'age': 26, 'salary': 3500}\n",
      "{'_id': ObjectId('69057323c13069a3c2dc578a'), 'name': 'Mike', 'department': 'IT', 'age': 32, 'salary': 6000}\n",
      "{'_id': ObjectId('69057323c13069a3c2dc578b'), 'name': 'Nina', 'department': 'HR', 'age': 34, 'salary': 5200}\n",
      "{'_id': ObjectId('69057323c13069a3c2dc578c'), 'name': 'Oscar', 'department': 'Finance', 'age': 37, 'salary': 7000}\n",
      "{'_id': ObjectId('69057323c13069a3c2dc578d'), 'name': 'Paula', 'department': 'Marketing', 'age': 20, 'salary': 4000}\n",
      "{'_id': ObjectId('69057323c13069a3c2dc578e'), 'name': 'Quinn', 'department': 'IT', 'age': 27, 'salary': 5700}\n",
      "{'_id': ObjectId('69057323c13069a3c2dc578f'), 'name': 'Rita', 'department': 'HR', 'age': 24, 'salary': 4800}\n",
      "{'_id': ObjectId('69057323c13069a3c2dc5790'), 'name': 'Steve', 'department': 'Finance', 'age': 45, 'salary': 7300}\n",
      "{'_id': ObjectId('69057323c13069a3c2dc5791'), 'name': 'Tina', 'department': 'Marketing', 'age': 21, 'salary': 4600}\n",
      "{'_id': ObjectId('69057323c13069a3c2dc5792'), 'name': 'Uma', 'department': 'IT', 'age': 29, 'salary': 5900}\n",
      "{'_id': ObjectId('69057323c13069a3c2dc577f'), 'name': 'Bob', 'department': 'IT', 'age': 23, 'salary': 5200}\n",
      "{'_id': ObjectId('69057323c13069a3c2dc5780'), 'name': 'Charlie', 'department': 'HR', 'age': 31, 'salary': 5000}\n",
      "{'_id': ObjectId('69057323c13069a3c2dc5782'), 'name': 'Evan', 'department': 'Finance', 'age': 35, 'salary': 6200}\n",
      "{'_id': ObjectId('69057323c13069a3c2dc5783'), 'name': 'Fiona', 'department': 'IT', 'age': 22, 'salary': 5600}\n",
      "{'_id': ObjectId('69057323c13069a3c2dc5784'), 'name': 'George', 'department': 'Finance', 'age': 41, 'salary': 6800}\n",
      "{'_id': ObjectId('69057323c13069a3c2dc5786'), 'name': 'Ian', 'department': 'Marketing', 'age': 23, 'salary': 5100}\n",
      "{'_id': ObjectId('69057323c13069a3c2dc5788'), 'name': 'Kevin', 'department': 'Finance', 'age': 30, 'salary': 6100}\n",
      "{'_id': ObjectId('69057323c13069a3c2dc578a'), 'name': 'Mike', 'department': 'IT', 'age': 32, 'salary': 6000}\n",
      "{'_id': ObjectId('69057323c13069a3c2dc578b'), 'name': 'Nina', 'department': 'HR', 'age': 34, 'salary': 5400}\n",
      "{'_id': ObjectId('69057323c13069a3c2dc578c'), 'name': 'Oscar', 'department': 'Finance', 'age': 37, 'salary': 7000}\n",
      "{'_id': ObjectId('69057323c13069a3c2dc578e'), 'name': 'Quinn', 'department': 'IT', 'age': 27, 'salary': 5700}\n",
      "{'_id': ObjectId('69057323c13069a3c2dc578f'), 'name': 'Rita', 'department': 'HR', 'age': 24, 'salary': 5000}\n",
      "{'_id': ObjectId('69057323c13069a3c2dc5790'), 'name': 'Steve', 'department': 'Finance', 'age': 45, 'salary': 7300}\n",
      "{'_id': ObjectId('69057323c13069a3c2dc5792'), 'name': 'Uma', 'department': 'IT', 'age': 29, 'salary': 5900}\n"
     ]
    }
   ],
   "source": [
    "# Create\n",
    "employees_data = [\n",
    "    {'name': 'Bob', 'department': 'IT', 'age': 23, 'salary': 5200},\n",
    "    {'name': 'Charlie', 'department': 'HR', 'age': 31, 'salary': 4800},\n",
    "    {'name': 'Diana', 'department': 'Marketing', 'age': 28, 'salary': 3000},\n",
    "    {'name': 'Evan', 'department': 'Finance', 'age': 35, 'salary': 6200},\n",
    "    {'name': 'Fiona', 'department': 'IT', 'age': 22, 'salary': 5600},\n",
    "    {'name': 'George', 'department': 'Finance', 'age': 41, 'salary': 6800},\n",
    "    {'name': 'Hannah', 'department': 'HR', 'age': 27, 'salary': 4500},\n",
    "    {'name': 'Ian', 'department': 'Marketing', 'age': 23, 'salary': 5100},\n",
    "    {'name': 'Julia', 'department': 'IT', 'age': 24, 'salary': 4900},\n",
    "    {'name': 'Kevin', 'department': 'Finance', 'age': 30, 'salary': 6100},\n",
    "    {'name': 'Laura', 'department': 'Marketing', 'age': 26, 'salary': 3500},\n",
    "    {'name': 'Mike', 'department': 'IT', 'age': 32, 'salary': 6000},\n",
    "    {'name': 'Nina', 'department': 'HR', 'age': 34, 'salary': 5200},\n",
    "    {'name': 'Oscar', 'department': 'Finance', 'age': 37, 'salary': 7000},\n",
    "    {'name': 'Paula', 'department': 'Marketing', 'age': 20, 'salary': 4000},\n",
    "    {'name': 'Quinn', 'department': 'IT', 'age': 27, 'salary': 5700},\n",
    "    {'name': 'Rita', 'department': 'HR', 'age': 24, 'salary': 4800},\n",
    "    {'name': 'Steve', 'department': 'Finance', 'age': 45, 'salary': 7300},\n",
    "    {'name': 'Tina', 'department': 'Marketing', 'age': 21, 'salary': 4600},\n",
    "    {'name': 'Uma', 'department': 'IT', 'age': 29, 'salary': 5900}\n",
    "]\n",
    "\n",
    "collection.insert_many(employees_data)\n",
    "\n",
    "# Read\n",
    "for emp in collection.find():\n",
    "    print(emp)\n",
    "\n",
    "# Update\n",
    "collection.update_many({'department': 'HR'}, {'$inc': {'salary': 200}})\n",
    "\n",
    "# Delete\n",
    "collection.delete_many({'salary': {'$lt': 5000}})\n",
    "\n",
    "# Read\n",
    "for emp in collection.find():\n",
    "    print(emp)"
   ]
  },
  {
   "cell_type": "code",
   "execution_count": 40,
   "id": "baf65ef0-ed53-4827-8930-9a93306de21b",
   "metadata": {},
   "outputs": [
    {
     "name": "stdout",
     "output_type": "stream",
     "text": [
      "{'_id': ObjectId('69057323c13069a3c2dc578a'), 'name': 'Mike', 'department': 'IT', 'age': 32, 'salary': 6000}\n"
     ]
    }
   ],
   "source": [
    "print(collection.find_one({'name': 'Mike'}))"
   ]
  },
  {
   "cell_type": "code",
   "execution_count": 34,
   "id": "b8263f03-3da8-4e89-ad82-19e349cc25f8",
   "metadata": {},
   "outputs": [
    {
     "data": {
      "text/plain": [
       "DeleteResult({'n': 26, 'ok': 1.0}, acknowledged=True)"
      ]
     },
     "execution_count": 34,
     "metadata": {},
     "output_type": "execute_result"
    }
   ],
   "source": [
    "# Delete all\n",
    "collection.delete_many({}) "
   ]
  },
  {
   "cell_type": "code",
   "execution_count": 9,
   "id": "04a0602d-4c8f-4b25-ab41-5da5e082a807",
   "metadata": {},
   "outputs": [
    {
     "name": "stdout",
     "output_type": "stream",
     "text": [
      "{'_id': 'Finance', 'average_salary': 6680.0}\n",
      "{'_id': 'Marketing', 'average_salary': 5100.0}\n",
      "{'_id': 'IT', 'average_salary': 5680.0}\n",
      "{'_id': 'HR', 'average_salary': 5133.333333333333}\n"
     ]
    }
   ],
   "source": [
    "# Tugas 3 Menghitung rata-rata gaji per departement\n",
    "pipeline = [\n",
    "    {'$group': {'_id': '$department', 'average_salary': {'$avg': '$salary'}}}\n",
    "]\n",
    "for result in collection.aggregate(pipeline):\n",
    "    print(result)"
   ]
  },
  {
   "cell_type": "code",
   "execution_count": 11,
   "id": "c3bff749-d115-48c4-a98f-7b2f4a8c4117",
   "metadata": {},
   "outputs": [
    {
     "name": "stdout",
     "output_type": "stream",
     "text": [
      "{'_id': 'IT', 'total_salary': 28400}\n",
      "{'_id': 'Finance', 'total_salary': 33400}\n",
      "{'_id': 'HR', 'total_salary': 15400}\n",
      "{'_id': 'Marketing', 'total_salary': 5100}\n"
     ]
    }
   ],
   "source": [
    "#Latihan Menghitung total gaji per departemen\n",
    "pipeline = [\n",
    "    {'$group': {'_id': '$department', 'total_salary': {'$sum': '$salary'}}}\n",
    "]\n",
    "for result in collection.aggregate(pipeline):\n",
    "    print(result)"
   ]
  },
  {
   "cell_type": "code",
   "execution_count": 16,
   "id": "0e05bd19-6a79-43db-b7ec-70eb258eb0fc",
   "metadata": {},
   "outputs": [
    {
     "name": "stdout",
     "output_type": "stream",
     "text": [
      "Rata-rata harga produk: 3105000.0\n",
      "\n",
      "Produk dengan harga di atas rata-rata:\n",
      "- Laptop X1 (Electronics): Rp15000000\n",
      "- Smartphone Z (Electronics): Rp8000000\n",
      "\n",
      "Total produk per kategori:\n",
      "- Electronics: 6 produk\n",
      "- Furniture: 2 produk\n",
      "- Accessories: 2 produk\n"
     ]
    }
   ],
   "source": [
    "# Latihan\n",
    "products = db['products']\n",
    "products.delete_many({})\n",
    "\n",
    "data_produk = [\n",
    "    {\"name\": \"Laptop X1\", \"category\": \"Electronics\", \"price\": 15000000},\n",
    "    {\"name\": \"Smartphone Z\", \"category\": \"Electronics\", \"price\": 8000000},\n",
    "    {\"name\": \"Headphone A\", \"category\": \"Electronics\", \"price\": 1200000},\n",
    "    {\"name\": \"Office Chair\", \"category\": \"Furniture\", \"price\": 2500000},\n",
    "    {\"name\": \"Desk Lamp\", \"category\": \"Furniture\", \"price\": 750000},\n",
    "    {\"name\": \"Water Bottle\", \"category\": \"Accessories\", \"price\": 150000},\n",
    "    {\"name\": \"Backpack\", \"category\": \"Accessories\", \"price\": 350000},\n",
    "    {\"name\": \"Monitor 24\\\"\", \"category\": \"Electronics\", \"price\": 2200000},\n",
    "    {\"name\": \"Keyboard\", \"category\": \"Electronics\", \"price\": 600000},\n",
    "    {\"name\": \"Mouse\", \"category\": \"Electronics\", \"price\": 300000}\n",
    "]\n",
    "\n",
    "products.insert_many(data_produk)\n",
    "\n",
    "# Latihan 4.2: Lakukan query untuk menemukan produk dengan harga di atas rata-rata.\n",
    "\n",
    "# Hitung rata-rata harga produk\n",
    "pipeline_avg = [\n",
    "    {'$group': {'_id': None, 'avg_price': {'$avg': '$price'}}}\n",
    "]\n",
    "avg_result = list(products.aggregate(pipeline_avg))[0]\n",
    "avg_price = avg_result['avg_price']\n",
    "print(f\"Rata-rata harga produk: {avg_price}\")\n",
    "\n",
    "# Cari produk dengan harga di atas rata-rata\n",
    "above_avg = products.find({'price': {'$gt': avg_price}})\n",
    "\n",
    "print(\"\\nProduk dengan harga di atas rata-rata:\")\n",
    "for p in above_avg:\n",
    "    print(f\"- {p['name']} ({p['category']}): Rp{p['price']}\")\n",
    "\n",
    "# Latihan 4.3: Buatlah aggregation pipeline untuk menghitung total produk dalam setiap kategori.\n",
    "pipeline_count = [\n",
    "    {'$group': {'_id': '$category', 'total_products': {'$sum': 1}}},\n",
    "    {'$sort': {'total_products': -1}}  # urutkan dari yang terbanyak\n",
    "]\n",
    "\n",
    "print(\"\\nTotal produk per kategori:\")\n",
    "for result in products.aggregate(pipeline_count):\n",
    "    print(f\"- {result['_id']}: {result['total_products']} produk\")\n",
    "\n"
   ]
  },
  {
   "cell_type": "code",
   "execution_count": 24,
   "id": "5d4767d6-4246-4af8-977a-10f258032722",
   "metadata": {},
   "outputs": [
    {
     "name": "stdout",
     "output_type": "stream",
     "text": [
      "\n",
      " 5 Karyawan dengan gaji tertinggi per departemen:\n",
      "{'_id': 'IT', 'top_employees': [{'name': 'Mike', 'salary': 6000, 'age': 32}, {'name': 'Uma', 'salary': 5900, 'age': 29}, {'name': 'Quinn', 'salary': 5700, 'age': 27}, {'name': 'Fiona', 'salary': 5600, 'age': 29}, {'name': 'Bob', 'salary': 5200, 'age': 25}]} \n",
      "\n",
      "{'_id': 'HR', 'top_employees': [{'name': 'Nina', 'salary': 5400, 'age': 34}, {'name': 'Charlie', 'salary': 5000, 'age': 31}, {'name': 'Rita', 'salary': 5000, 'age': 38}]} \n",
      "\n",
      "{'_id': 'Finance', 'top_employees': [{'name': 'Steve', 'salary': 7300, 'age': 45}, {'name': 'Oscar', 'salary': 7000, 'age': 37}, {'name': 'George', 'salary': 6800, 'age': 41}, {'name': 'Evan', 'salary': 6200, 'age': 35}, {'name': 'Kevin', 'salary': 6100, 'age': 30}]} \n",
      "\n",
      "{'_id': 'Marketing', 'top_employees': [{'name': 'Ian', 'salary': 5100, 'age': 33}]} \n",
      "\n"
     ]
    }
   ],
   "source": [
    "# Tugas 4\n",
    "pipeline = [\n",
    "    # Urutkan data berdasarkan departemen dan gaji menurun\n",
    "    {'$sort': {'department': 1, 'salary': -1}},\n",
    "\n",
    "    # Kelompokkan per departemen dan ambil 5 teratas\n",
    "    {\n",
    "        '$group': {\n",
    "            '_id': '$department',\n",
    "            'top_employees': {\n",
    "                '$push': {\n",
    "                    'name': '$name',\n",
    "                    'salary': '$salary',\n",
    "                    'age': '$age'\n",
    "                }\n",
    "            }\n",
    "        }\n",
    "    },\n",
    "    # Hanya ambil 5 pertama di setiap grup\n",
    "    {'$project': {'top_employees': {'$slice': ['$top_employees', 5]}}}\n",
    "]\n",
    "\n",
    "result = collection.aggregate(pipeline)\n",
    "print(\"\\n 5 Karyawan dengan gaji tertinggi per departemen:\")\n",
    "for doc in result:\n",
    "    print(doc,\"\\n\")\n"
   ]
  },
  {
   "cell_type": "code",
   "execution_count": 36,
   "id": "49b9d9a2-f48e-4df4-9ef0-f8fe24602051",
   "metadata": {},
   "outputs": [
    {
     "name": "stdout",
     "output_type": "stream",
     "text": [
      "=== Data sebelum penghapusan ===\n",
      "Bob - Usia: 23\n",
      "Charlie - Usia: 31\n",
      "Evan - Usia: 35\n",
      "Fiona - Usia: 22\n",
      "George - Usia: 41\n",
      "Ian - Usia: 23\n",
      "Kevin - Usia: 30\n",
      "Mike - Usia: 32\n",
      "Nina - Usia: 34\n",
      "Oscar - Usia: 37\n",
      "Quinn - Usia: 27\n",
      "Rita - Usia: 24\n",
      "Steve - Usia: 45\n",
      "Uma - Usia: 29\n",
      " Semua karyawan dengan usia di bawah 25 tahun telah dihapus.\n",
      "\n",
      "=== Data setelah penghapusan ===\n",
      "Charlie - Usia: 31\n",
      "Evan - Usia: 35\n",
      "George - Usia: 41\n",
      "Kevin - Usia: 30\n",
      "Mike - Usia: 32\n",
      "Nina - Usia: 34\n",
      "Oscar - Usia: 37\n",
      "Quinn - Usia: 27\n",
      "Steve - Usia: 45\n",
      "Uma - Usia: 29\n"
     ]
    }
   ],
   "source": [
    "# Tugas 5\n",
    "print(\"=== Data sebelum penghapusan ===\")\n",
    "for emp in collection.find():\n",
    "    print(f\"{emp['name']} - Usia: {emp['age']}\")\n",
    "\n",
    "collection.delete_many({'age': {'$lt': 25}})\n",
    "print(\" Semua karyawan dengan usia di bawah 25 tahun telah dihapus.\")\n",
    "\n",
    "print(\"\\n=== Data setelah penghapusan ===\")\n",
    "for emp in collection.find():\n",
    "    print(f\"{emp['name']} - Usia: {emp['age']}\")\n",
    "\n"
   ]
  },
  {
   "cell_type": "code",
   "execution_count": 37,
   "id": "89b56c2b-4281-46e2-8b29-c810456aa360",
   "metadata": {},
   "outputs": [
    {
     "name": "stdout",
     "output_type": "stream",
     "text": [
      "\n",
      " Laporan Total Gaji & Rata-rata Umur per Departemen:\n",
      "{'_id': 'Finance', 'total_salary': 33400, 'average_age': 37.6, 'count': 5}\n",
      "{'_id': 'HR', 'total_salary': 10400, 'average_age': 32.5, 'count': 2}\n",
      "{'_id': 'IT', 'total_salary': 17600, 'average_age': 29.333333333333332, 'count': 3}\n"
     ]
    }
   ],
   "source": [
    "# Tugas 6\n",
    "pipeline = [\n",
    "    {\n",
    "        '$group': {\n",
    "            '_id': '$department',\n",
    "            'total_salary': {'$sum': '$salary'},\n",
    "            'average_age': {'$avg': '$age'},\n",
    "            'count': {'$sum': 1}\n",
    "        }\n",
    "    },\n",
    "    {'$sort': {'_id': 1}}\n",
    "]\n",
    "\n",
    "result = collection.aggregate(pipeline)\n",
    "print(\"\\n Laporan Total Gaji & Rata-rata Umur per Departemen:\")\n",
    "for doc in result:\n",
    "    print(doc)\n"
   ]
  },
  {
   "cell_type": "code",
   "execution_count": null,
   "id": "89468dd2-60be-418a-9dad-eff1336662b0",
   "metadata": {},
   "outputs": [],
   "source": []
  }
 ],
 "metadata": {
  "kernelspec": {
   "display_name": "PySpark (dafa)",
   "language": "python",
   "name": "sparkenv"
  },
  "language_info": {
   "codemirror_mode": {
    "name": "ipython",
    "version": 3
   },
   "file_extension": ".py",
   "mimetype": "text/x-python",
   "name": "python",
   "nbconvert_exporter": "python",
   "pygments_lexer": "ipython3",
   "version": "3.10.19"
  }
 },
 "nbformat": 4,
 "nbformat_minor": 5
}
